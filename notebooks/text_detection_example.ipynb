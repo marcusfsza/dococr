{
 "cells": [
  {
   "cell_type": "code",
   "execution_count": null,
   "source": [
    "# Doctr installation\n",
    "! pip install python-doctr\n",
    "# To install from source instead of the last release, comment the command above and uncomment the following one.\n",
    "# ! pip install git+https://github.com/mindee/doctr.git"
   ],
   "outputs": [],
   "metadata": {}
  },
  {
   "cell_type": "markdown",
   "source": [
    "# Quick Tour\n",
    "\n",
    "## Text detection\n",
    "\n",
    "### Load a pretrained text detection predictor"
   ],
   "metadata": {}
  },
  {
   "cell_type": "code",
   "execution_count": 3,
   "source": [
    "from doctr.models import detection_predictor\n",
    "\n",
    "# Load predictor\n",
    "model = detection_predictor(pretrained=True)"
   ],
   "outputs": [],
   "metadata": {}
  },
  {
   "cell_type": "markdown",
   "source": [
    "### Load inputs as DocumentFile"
   ],
   "metadata": {}
  },
  {
   "cell_type": "code",
   "execution_count": 10,
   "source": [
    "from doctr.documents import DocumentFile\n",
    "\n",
    "# Let's choose a webpage for instance\n",
    "webpage_doc = DocumentFile.from_url(\"https://mindee.com\").as_images()"
   ],
   "outputs": [],
   "metadata": {}
  },
  {
   "cell_type": "markdown",
   "source": [
    "### Predict text areas"
   ],
   "metadata": {}
  },
  {
   "cell_type": "code",
   "execution_count": 11,
   "source": [
    "# Predict text boxes\n",
    "boxes = model(webpage_doc)\n"
   ],
   "outputs": [],
   "metadata": {}
  },
  {
   "cell_type": "markdown",
   "source": [
    "### Explore text boxes format"
   ],
   "metadata": {}
  },
  {
   "cell_type": "code",
   "execution_count": 14,
   "source": [
    "# boxes is a list of page boxes, one element each page of the webpage_doc\n",
    "assert len(boxes) == len(webpage_doc) == 15 # 15 pages in the webpage_doc\n"
   ],
   "outputs": [],
   "metadata": {}
  },
  {
   "cell_type": "code",
   "execution_count": 17,
   "source": [
    "import numpy as np\n",
    "\n",
    "# Each page boxes is a tuple (array of boxes, angle), where the array of boxes has a shape (N, 5) and the angle\n",
    "# is a float giving the rotation of the page. N is the number of detected boxes on the page, each box is represented\n",
    "# by 5 floats between 0 and 1: (xmin, ymin, xmax, ymax, objectness)\n",
    "assert isinstance(boxes[0][0], np.ndarray)\n",
    "assert boxes[0][1] == 0.  # no angle for a webpage\n",
    "assert boxes[0][0].shape[1] == 5"
   ],
   "outputs": [],
   "metadata": {}
  },
  {
   "cell_type": "markdown",
   "source": [
    "### Display boxes"
   ],
   "metadata": {}
  },
  {
   "cell_type": "code",
   "execution_count": null,
   "source": [
    "from doctr.utils.visualization import draw_boxes\n",
    "\n",
    "# For the first page\n",
    "boxes_coords = boxes[0][0]\n",
    "draw_boxes(boxes_coords[:, :4], webpage_doc[0])"
   ],
   "outputs": [],
   "metadata": {}
  },
  {
   "cell_type": "code",
   "execution_count": null,
   "source": [],
   "outputs": [],
   "metadata": {}
  }
 ],
 "metadata": {
  "kernelspec": {
   "display_name": "Python 3",
   "language": "python",
   "name": "python3"
  },
  "language_info": {
   "codemirror_mode": {
    "name": "ipython",
    "version": 3
   },
   "file_extension": ".py",
   "mimetype": "text/x-python",
   "name": "python",
   "nbconvert_exporter": "python",
   "pygments_lexer": "ipython3",
   "version": "3.8.10"
  }
 },
 "nbformat": 4,
 "nbformat_minor": 5
}