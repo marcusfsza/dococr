{
 "cells": [
  {
   "cell_type": "code",
   "execution_count": null,
   "source": [
    "# Doctr installation\n",
    "! pip install python-doctr\n",
    "# To install from source instead of the last release, comment the command above and uncomment the following one.\n",
    "# ! pip install git+https://github.com/mindee/doctr.git"
   ],
   "outputs": [],
   "metadata": {}
  },
  {
   "cell_type": "markdown",
   "source": [
    "# Quick Tour\n",
    "\n",
    "## End to end OCR\n",
    "\n",
    "### Load a pretrained OCR predictor"
   ],
   "metadata": {}
  },
  {
   "cell_type": "code",
   "execution_count": 2,
   "source": [
    "from doctr.models import ocr_predictor\n",
    "\n",
    "# Load predictor\n",
    "model = ocr_predictor(pretrained=True)"
   ],
   "outputs": [],
   "metadata": {}
  },
  {
   "cell_type": "markdown",
   "source": [
    "### Load inputs as DocumentFile"
   ],
   "metadata": {}
  },
  {
   "cell_type": "code",
   "execution_count": null,
   "source": [
    "from doctr.documents import DocumentFile\n",
    "\n",
    "# Let's choose a webpage for instance\n",
    "webpage_doc = DocumentFile.from_url(\"https://mindee.com\").as_images()"
   ],
   "outputs": [],
   "metadata": {}
  },
  {
   "cell_type": "markdown",
   "source": [
    "### Run OCR"
   ],
   "metadata": {}
  },
  {
   "cell_type": "code",
   "execution_count": 6,
   "source": [
    "# Predict text areas and values\n",
    "response = model(webpage_doc)"
   ],
   "outputs": [],
   "metadata": {}
  },
  {
   "cell_type": "markdown",
   "source": [
    "### Display results"
   ],
   "metadata": {}
  },
  {
   "cell_type": "code",
   "execution_count": null,
   "source": [
    "# Show predicted document object as a nested structure\n",
    "print(response)"
   ],
   "outputs": [],
   "metadata": {}
  },
  {
   "cell_type": "code",
   "execution_count": null,
   "source": [
    "# Display words of the first line of the first page only\n",
    "line = response.pages[0].blocks[0].lines[0].words\n",
    "l = [word.value for word in line]\n",
    "print(*l, sep=' ')"
   ],
   "outputs": [],
   "metadata": {}
  },
  {
   "cell_type": "code",
   "execution_count": null,
   "source": [
    "# Display results on the source image\n",
    "response.show(webpage_doc)"
   ],
   "outputs": [],
   "metadata": {}
  },
  {
   "cell_type": "code",
   "execution_count": null,
   "source": [],
   "outputs": [],
   "metadata": {}
  }
 ],
 "metadata": {
  "kernelspec": {
   "display_name": "Python 3",
   "language": "python",
   "name": "python3"
  },
  "language_info": {
   "codemirror_mode": {
    "name": "ipython",
    "version": 3
   },
   "file_extension": ".py",
   "mimetype": "text/x-python",
   "name": "python",
   "nbconvert_exporter": "python",
   "pygments_lexer": "ipython3",
   "version": "3.8.10"
  }
 },
 "nbformat": 4,
 "nbformat_minor": 5
}